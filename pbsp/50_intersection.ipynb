{
 "cells": [
  {
   "cell_type": "code",
   "execution_count": 1,
   "metadata": {},
   "outputs": [],
   "source": [
    "import os\n",
    "from argparse import ArgumentParser\n",
    "from shutil import copyfile\n",
    "from pytorch_lightning.utilities.apply_func import move_data_to_device\n",
    "\n",
    "import torch\n",
    "from flask import Flask, render_template\n",
    "from tqdm.auto import tqdm\n",
    "\n",
    "\n",
    "def get_best_ckpt(folder):\n",
    "    tmp = [el[:-5].split(\"-\") for el in sorted(os.listdir(folder))]\n",
    "    tmp = sorted(\n",
    "        tmp,\n",
    "        key=lambda x: (\n",
    "            float(x[1].split(\"=\")[1]),\n",
    "            float(x[2].split(\"=\")[1]),\n",
    "            float(x[3].split(\"=\")[1]),\n",
    "        ),\n",
    "        reverse=True,\n",
    "    )\n",
    "    return os.path.join(folder, \"-\".join(tmp[0]) + \".ckpt\")\n",
    "\n",
    "\n",
    "def get_50_intersection_metric(y_pred, y_true, threshold = 0.5):\n",
    "    abc = torch.logical_and(y_pred, y_true).sum()\n",
    "#     print(abc, y_true.sum())\n",
    "    return abc > threshold * y_true.sum()\n",
    "\n",
    "\n",
    "def get_preds(nets, dataloader):\n",
    "    print(\"Running through dataset\")\n",
    "    outs = []\n",
    "    for idx, batch in enumerate(tqdm(dataloader)):\n",
    "        data, meta = move_data_to_device(batch, nets[0].device)\n",
    "        y_preds = []\n",
    "        for i, net in enumerate(nets):\n",
    "            y_pred, y_true = net(data[\"feature\"], meta[\"length\"]), data[\"label\"]\n",
    "            y_preds.append((torch.sigmoid(y_pred) > 0.5).float())\n",
    "        y_pred = torch.mean(torch.stack(y_preds), dim=0)\n",
    "        for i in range(len(y_true)):\n",
    "            outs.append(get_50_intersection_metric(y_pred[i], y_true[i]))\n",
    "    return outs\n"
   ]
  },
  {
   "cell_type": "code",
   "execution_count": 2,
   "metadata": {},
   "outputs": [
    {
     "name": "stdout",
     "output_type": "stream",
     "text": [
      "/home/crvineeth97/logs/cv_0/fold_0/checkpoints/epoch=73-v_mcc=0.553-v_acc=0.926-v_f1=0.579.ckpt\n",
      "Loading pssm\n",
      "Loading ss2\n",
      "Loading solv\n",
      "Positional weights will be computed on the fly\n",
      "Loading pssm\n",
      "Loading ss2\n",
      "Loading solv\n",
      "/home/crvineeth97/logs/cv_0/fold_1/checkpoints/epoch=54-v_mcc=0.533-v_acc=0.923-v_f1=0.562.ckpt\n",
      "Loading pssm\n",
      "Loading ss2\n",
      "Loading solv\n",
      "Positional weights will be computed on the fly\n",
      "Loading pssm\n",
      "Loading ss2\n",
      "Loading solv\n",
      "/home/crvineeth97/logs/cv_0/fold_2/checkpoints/epoch=58-v_mcc=0.534-v_acc=0.931-v_f1=0.555.ckpt\n",
      "Loading pssm\n",
      "Loading ss2\n",
      "Loading solv\n",
      "Positional weights will be computed on the fly\n",
      "Loading pssm\n",
      "Loading ss2\n",
      "Loading solv\n",
      "/home/crvineeth97/logs/cv_0/fold_3/checkpoints/epoch=52-v_mcc=0.482-v_acc=0.911-v_f1=0.511.ckpt\n",
      "Loading pssm\n",
      "Loading ss2\n",
      "Loading solv\n",
      "Positional weights will be computed on the fly\n",
      "Loading pssm\n",
      "Loading ss2\n",
      "Loading solv\n",
      "/home/crvineeth97/logs/cv_0/fold_4/checkpoints/epoch=55-v_mcc=0.547-v_acc=0.918-v_f1=0.573.ckpt\n",
      "Loading pssm\n",
      "Loading ss2\n",
      "Loading solv\n",
      "Positional weights will be computed on the fly\n",
      "Loading pssm\n",
      "Loading ss2\n",
      "Loading solv\n",
      "/home/crvineeth97/logs/cv_0/fold_5/checkpoints/epoch=55-v_mcc=0.541-v_acc=0.923-v_f1=0.568.ckpt\n",
      "Loading pssm\n",
      "Loading ss2\n",
      "Loading solv\n",
      "Positional weights will be computed on the fly\n",
      "Loading pssm\n",
      "Loading ss2\n",
      "Loading solv\n",
      "/home/crvineeth97/logs/cv_0/fold_6/checkpoints/epoch=54-v_mcc=0.532-v_acc=0.920-v_f1=0.559.ckpt\n",
      "Loading pssm\n",
      "Loading ss2\n",
      "Loading solv\n",
      "Positional weights will be computed on the fly\n",
      "Loading pssm\n",
      "Loading ss2\n",
      "Loading solv\n",
      "/home/crvineeth97/logs/cv_0/fold_7/checkpoints/epoch=71-v_mcc=0.540-v_acc=0.926-v_f1=0.568.ckpt\n",
      "Loading pssm\n",
      "Loading ss2\n",
      "Loading solv\n",
      "Positional weights will be computed on the fly\n",
      "Loading pssm\n",
      "Loading ss2\n",
      "Loading solv\n",
      "/home/crvineeth97/logs/cv_0/fold_8/checkpoints/epoch=55-v_mcc=0.509-v_acc=0.922-v_f1=0.530.ckpt\n",
      "Loading pssm\n",
      "Loading ss2\n",
      "Loading solv\n",
      "Positional weights will be computed on the fly\n",
      "Loading pssm\n",
      "Loading ss2\n",
      "Loading solv\n",
      "/home/crvineeth97/logs/cv_0/fold_9/checkpoints/epoch=73-v_mcc=0.524-v_acc=0.921-v_f1=0.549.ckpt\n",
      "Loading pssm\n",
      "Loading ss2\n",
      "Loading solv\n",
      "Positional weights will be computed on the fly\n",
      "Loading pssm\n",
      "Loading ss2\n",
      "Loading solv\n"
     ]
    }
   ],
   "source": [
    "from pbsp.metrics import batch_metrics, batch_work\n",
    "from pbsp.net import Net\n",
    "\n",
    "data_dir = os.path.abspath(os.path.expanduser(\"../data\"))\n",
    "ckpt_dir = os.path.abspath(os.path.expanduser(\"~/logs/cv_0\"))\n",
    "nets = []\n",
    "metrics = []\n",
    "for i in range(10):\n",
    "    ckpt = get_best_ckpt(os.path.join(ckpt_dir, \"fold_\" + str(i), \"checkpoints\"))\n",
    "    print(ckpt)\n",
    "    nets.append(Net.load_from_checkpoint(ckpt).cuda())\n",
    "    device = nets[i].device\n",
    "    nets[i].freeze()\n",
    "    nets[i].eval()\n",
    "    # break"
   ]
  },
  {
   "cell_type": "code",
   "execution_count": 4,
   "metadata": {},
   "outputs": [
    {
     "name": "stdout",
     "output_type": "stream",
     "text": [
      "Running through dataset\n"
     ]
    },
    {
     "data": {
      "application/vnd.jupyter.widget-view+json": {
       "model_id": "784158b9b5344d0190a450a3baebcb6b",
       "version_major": 2,
       "version_minor": 0
      },
      "text/plain": [
       "HBox(children=(FloatProgress(value=0.0, max=50.0), HTML(value='')))"
      ]
     },
     "metadata": {},
     "output_type": "display_data"
    },
    {
     "name": "stdout",
     "output_type": "stream",
     "text": [
      "\n",
      "Running through dataset\n"
     ]
    },
    {
     "data": {
      "application/vnd.jupyter.widget-view+json": {
       "model_id": "43cf7018cffc485998171816fd379f11",
       "version_major": 2,
       "version_minor": 0
      },
      "text/plain": [
       "HBox(children=(FloatProgress(value=0.0, max=50.0), HTML(value='')))"
      ]
     },
     "metadata": {},
     "output_type": "display_data"
    },
    {
     "name": "stdout",
     "output_type": "stream",
     "text": [
      "\n",
      "Running through dataset\n"
     ]
    },
    {
     "data": {
      "application/vnd.jupyter.widget-view+json": {
       "model_id": "d22f53dd08df4608bad5fd4121e79ab1",
       "version_major": 2,
       "version_minor": 0
      },
      "text/plain": [
       "HBox(children=(FloatProgress(value=0.0, max=50.0), HTML(value='')))"
      ]
     },
     "metadata": {},
     "output_type": "display_data"
    },
    {
     "name": "stdout",
     "output_type": "stream",
     "text": [
      "\n",
      "Running through dataset\n"
     ]
    },
    {
     "data": {
      "application/vnd.jupyter.widget-view+json": {
       "model_id": "b312f2ec64554887ac6253680622af84",
       "version_major": 2,
       "version_minor": 0
      },
      "text/plain": [
       "HBox(children=(FloatProgress(value=0.0, max=50.0), HTML(value='')))"
      ]
     },
     "metadata": {},
     "output_type": "display_data"
    },
    {
     "name": "stdout",
     "output_type": "stream",
     "text": [
      "\n",
      "Running through dataset\n"
     ]
    },
    {
     "data": {
      "application/vnd.jupyter.widget-view+json": {
       "model_id": "20d12f98eb6440729c682a437ec3c728",
       "version_major": 2,
       "version_minor": 0
      },
      "text/plain": [
       "HBox(children=(FloatProgress(value=0.0, max=50.0), HTML(value='')))"
      ]
     },
     "metadata": {},
     "output_type": "display_data"
    },
    {
     "name": "stdout",
     "output_type": "stream",
     "text": [
      "\n",
      "Running through dataset\n"
     ]
    },
    {
     "data": {
      "application/vnd.jupyter.widget-view+json": {
       "model_id": "3f342e9bdbd94f7e9883d5d94ece6e64",
       "version_major": 2,
       "version_minor": 0
      },
      "text/plain": [
       "HBox(children=(FloatProgress(value=0.0, max=50.0), HTML(value='')))"
      ]
     },
     "metadata": {},
     "output_type": "display_data"
    },
    {
     "name": "stdout",
     "output_type": "stream",
     "text": [
      "\n",
      "Running through dataset\n"
     ]
    },
    {
     "data": {
      "application/vnd.jupyter.widget-view+json": {
       "model_id": "b7ee40f2a1ac444eaea1c9a299425c23",
       "version_major": 2,
       "version_minor": 0
      },
      "text/plain": [
       "HBox(children=(FloatProgress(value=0.0, max=50.0), HTML(value='')))"
      ]
     },
     "metadata": {},
     "output_type": "display_data"
    },
    {
     "name": "stdout",
     "output_type": "stream",
     "text": [
      "\n",
      "Running through dataset\n"
     ]
    },
    {
     "data": {
      "application/vnd.jupyter.widget-view+json": {
       "model_id": "6060f3e56ef04991acbba90e693bd525",
       "version_major": 2,
       "version_minor": 0
      },
      "text/plain": [
       "HBox(children=(FloatProgress(value=0.0, max=50.0), HTML(value='')))"
      ]
     },
     "metadata": {},
     "output_type": "display_data"
    },
    {
     "name": "stdout",
     "output_type": "stream",
     "text": [
      "\n",
      "Running through dataset\n"
     ]
    },
    {
     "data": {
      "application/vnd.jupyter.widget-view+json": {
       "model_id": "e3f40d86d8564c36b0c696d0fa56a0c7",
       "version_major": 2,
       "version_minor": 0
      },
      "text/plain": [
       "HBox(children=(FloatProgress(value=0.0, max=50.0), HTML(value='')))"
      ]
     },
     "metadata": {},
     "output_type": "display_data"
    },
    {
     "name": "stdout",
     "output_type": "stream",
     "text": [
      "\n",
      "Running through dataset\n"
     ]
    },
    {
     "data": {
      "application/vnd.jupyter.widget-view+json": {
       "model_id": "03024aa366d14d31a84c08957badcadd",
       "version_major": 2,
       "version_minor": 0
      },
      "text/plain": [
       "HBox(children=(FloatProgress(value=0.0, max=50.0), HTML(value='')))"
      ]
     },
     "metadata": {},
     "output_type": "display_data"
    },
    {
     "name": "stdout",
     "output_type": "stream",
     "text": [
      "\n"
     ]
    }
   ],
   "source": [
    "validations = []\n",
    "for i in range(10):\n",
    "    validations.append(get_preds([nets[i]], nets[i].val_dataloader()))"
   ]
  },
  {
   "cell_type": "code",
   "execution_count": 5,
   "metadata": {},
   "outputs": [
    {
     "name": "stdout",
     "output_type": "stream",
     "text": [
      "tensor(72.6986, device='cuda:0')\n",
      "tensor(71.6898, device='cuda:0')\n",
      "tensor(72.4464, device='cuda:0')\n",
      "tensor(71.6267, device='cuda:0')\n",
      "tensor(75.9773, device='cuda:0')\n",
      "tensor(76.1034, device='cuda:0')\n",
      "tensor(78.6255, device='cuda:0')\n",
      "tensor(75.5359, device='cuda:0')\n",
      "tensor(75.2837, device='cuda:0')\n",
      "tensor(74.6532, device='cuda:0')\n"
     ]
    }
   ],
   "source": [
    "for validation in validations:\n",
    "    valid = torch.stack(validation)\n",
    "    print(valid.sum() * 1.0 / len(valid) * 100.0)"
   ]
  },
  {
   "cell_type": "code",
   "execution_count": 6,
   "metadata": {},
   "outputs": [
    {
     "name": "stdout",
     "output_type": "stream",
     "text": [
      "Running through dataset\n"
     ]
    },
    {
     "data": {
      "application/vnd.jupyter.widget-view+json": {
       "model_id": "835fc03113484423a3a7f6bde2383604",
       "version_major": 2,
       "version_minor": 0
      },
      "text/plain": [
       "HBox(children=(FloatProgress(value=0.0, max=77.0), HTML(value='')))"
      ]
     },
     "metadata": {},
     "output_type": "display_data"
    },
    {
     "name": "stdout",
     "output_type": "stream",
     "text": [
      "\n"
     ]
    }
   ],
   "source": [
    "test = get_preds(nets, nets[0].test_dataloader())"
   ]
  },
  {
   "cell_type": "code",
   "execution_count": 7,
   "metadata": {},
   "outputs": [
    {
     "name": "stdout",
     "output_type": "stream",
     "text": [
      "tensor(86.4854, device='cuda:0')\n"
     ]
    }
   ],
   "source": [
    "testy = torch.stack(test)\n",
    "print(testy.sum() * 1.0 / len(testy) * 100.0)"
   ]
  },
  {
   "cell_type": "code",
   "execution_count": null,
   "metadata": {},
   "outputs": [],
   "source": []
  }
 ],
 "metadata": {
  "kernelspec": {
   "display_name": "Python 3",
   "language": "python",
   "name": "python3"
  },
  "language_info": {
   "codemirror_mode": {
    "name": "ipython",
    "version": 3
   },
   "file_extension": ".py",
   "mimetype": "text/x-python",
   "name": "python",
   "nbconvert_exporter": "python",
   "pygments_lexer": "ipython3",
   "version": "3.8.1"
  }
 },
 "nbformat": 4,
 "nbformat_minor": 4
}
