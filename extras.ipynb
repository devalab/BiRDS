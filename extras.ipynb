{
 "cells": [
  {
   "cell_type": "code",
   "execution_count": null,
   "metadata": {},
   "outputs": [],
   "source": [
    "# Get all proteins with same sequence and create another dataset with the labels of these sequences combined\n",
    "import numpy as np\n",
    "from os import listdir\n",
    "from constants import TRAIN_FOLDER, TEST_FOLDER, VAL_FOLDER\n",
    "from collections import defaultdict\n",
    "\n",
    "folders = [TRAIN_FOLDER, TEST_FOLDER, VAL_FOLDER]\n",
    "dic = {}\n",
    "unique = [set(), set(), set()]\n",
    "\n",
    "for i, folder in enumerate(folders):\n",
    "    for file in listdir(folder):\n",
    "        data = np.load(folder + file, allow_pickle=True)\n",
    "        protein = data[\"protein\"].item()\n",
    "        metadata = data[\"metadata\"].item()\n",
    "        seq = protein[\"sequence\"]\n",
    "        unique[i].add(seq)\n",
    "        if seq in dic:\n",
    "            for key in metadata:\n",
    "                dic[seq][\"metadata\"][key].append(metadata[key])\n",
    "            dic[seq][\"protein\"][\"labels\"] += protein[\"labels\"]\n",
    "        else:\n",
    "            dic[seq] = {}\n",
    "            dic[seq][\"metadata\"] = {}\n",
    "            for key in metadata:\n",
    "                dic[seq][\"metadata\"][key] = [metadata[key]]\n",
    "            dic[seq][\"protein\"] = protein"
   ]
  },
  {
   "cell_type": "code",
   "execution_count": null,
   "metadata": {},
   "outputs": [],
   "source": [
    "# We've added all the labels together so if a binding site occurs in more than half the ligands, then we assume it is the important site and consider it as our label\n",
    "for i, key in enumerate(dic):\n",
    "    ln = len(dic[key][\"metadata\"][\"pdb_id\"]) // 2\n",
    "    dic[key][\"protein\"][\"labels\"] = (dic[key][\"protein\"][\"labels\"] > 0).astype(float)"
   ]
  },
  {
   "cell_type": "code",
   "execution_count": null,
   "metadata": {},
   "outputs": [],
   "source": [
    "# Some statistics on the common sequences in test train and val data\n",
    "print(len(s[0]))\n",
    "print(len(s[1]))\n",
    "print(len(s[2]))\n",
    "print(len(s[1]-s[0]))\n",
    "print(len(s[2]-s[0]))"
   ]
  },
  {
   "cell_type": "code",
   "execution_count": null,
   "metadata": {},
   "outputs": [],
   "source": [
    "# Check whether the dictionary made is correct or not\n",
    "for key in dic:\n",
    "    if len(dic[key][\"metadata\"][\"pdb_id\"]) > 1:\n",
    "        print(dic[key])\n",
    "        break"
   ]
  },
  {
   "cell_type": "code",
   "execution_count": null,
   "metadata": {},
   "outputs": [],
   "source": [
    "# Save the data\n",
    "for key in dic:\n",
    "    ln = len(dic[key][\"metadata\"][\"pdb_id\"])\n",
    "    pdb_id = dic[key][\"metadata\"][\"pdb_id\"][0] + \"-\" + str(ln)\n",
    "    np.savez(\n",
    "        \"./data/PDBbind/preprocessed/unique2/\" + pdb_id + \".npz\",\n",
    "        metadata=dic[key][\"metadata\"],\n",
    "        protein=dic[key][\"protein\"],\n",
    "    )"
   ]
  },
  {
   "cell_type": "code",
   "execution_count": 2,
   "metadata": {},
   "outputs": [
    {
     "name": "stdout",
     "output_type": "stream",
     "text": [
      "10mh\n",
      "11bg\n",
      "12gs\n",
      "/home/zeus/Software/miniconda3/envs/skorch/lib/python3.7/site-packages/Bio/PDB/Polypeptide.py:350: UserWarning: Assuming residue 0HH is an unknown modified amino acid\n",
      "  % residue.get_resname()\n",
      "13gs\n",
      "17gs\n",
      "19gs\n",
      "1a26\n",
      "1a27\n",
      "1a29\n",
      "/home/zeus/Software/miniconda3/envs/skorch/lib/python3.7/site-packages/Bio/PDB/Polypeptide.py:350: UserWarning: Assuming residue  CA is an unknown modified amino acid\n",
      "  % residue.get_resname()\n",
      "1a2b\n",
      "1a2n\n",
      "1a42\n",
      "1a4i\n",
      "1a4l\n",
      "1a4r\n",
      "1a4w\n",
      "/home/zeus/Software/miniconda3/envs/skorch/lib/python3.7/site-packages/Bio/PDB/Polypeptide.py:350: UserWarning: Assuming residue QWE is an unknown modified amino acid\n",
      "  % residue.get_resname()\n",
      "1a4z\n",
      "1a50\n",
      "1a59\n",
      "1a5b\n",
      "1a5s\n",
      "1a5u\n"
     ]
    }
   ],
   "source": [
    "# Check whether a pdb has 2 or more chains surrounding a binding site\n",
    "import numpy as np\n",
    "from os import listdir, path\n",
    "from Bio.PDB import PDBParser, PPBuilder\n",
    "from rdkit import Chem\n",
    "from collections import defaultdict\n",
    "\n",
    "parser = PDBParser(QUIET=True)\n",
    "ppb = PPBuilder()\n",
    "raw_dir = \"./data/scPDB/raw/\"\n",
    "write_fil = open(\"./multiple\", \"w\")\n",
    "\n",
    "for fil in sorted(listdir(raw_dir)):\n",
    "    print(fil[:4])\n",
    "    pdb_prefix = path.join(raw_dir, fil)\n",
    "    protein_structure = parser.get_structure(fil, path.join(pdb_prefix, \"downloaded.pdb\"))\n",
    "    residues = []\n",
    "    for seq in ppb.build_peptides(protein_structure, aa_only=False):\n",
    "        for res in seq:\n",
    "            residues.append(res)\n",
    "\n",
    "    ligand_supplier = Chem.SDMolSupplier(\n",
    "        path.join(pdb_prefix, \"ligand.sdf\"), sanitize=False\n",
    "    )\n",
    "    ligand_supplier = ligand_supplier[0]\n",
    "    ligand_coords = ligand_supplier.GetConformer().GetPositions()\n",
    "    ligand_num_atoms = ligand_supplier.GetNumAtoms()\n",
    "    ligand_atom_types = np.array(\n",
    "        [atom.GetSymbol() for atom in ligand_supplier.GetAtoms()]\n",
    "    )\n",
    "\n",
    "    binding_site = []\n",
    "    for ind, residue in enumerate(residues):\n",
    "        flg = 0\n",
    "        for atom in residue.get_atoms():\n",
    "            if atom.get_fullname()[1] == \"H\":\n",
    "                continue\n",
    "            for i in range(ligand_num_atoms):\n",
    "                if ligand_atom_types[i] == \"H\":\n",
    "                    continue\n",
    "                if np.linalg.norm(atom.get_coord() - ligand_coords[i]) <= 4.5:\n",
    "                    flg = 1\n",
    "                    binding_site.append(residue)\n",
    "                    break\n",
    "            if flg:\n",
    "                break\n",
    "    dic = defaultdict(bool)\n",
    "    for ind, residue in enumerate(binding_site):\n",
    "        dic[residue.get_parent().get_id()] = True\n",
    "    if len(dic) > 1:\n",
    "        # 2 chains cover 1 ligand\n",
    "        write_fil.write(fil + \"\\n\")\n",
    "        write_fil.write(str(dic.keys()) + \"\\n\")\n",
    "\n",
    "write_file.close()"
   ]
  },
  {
   "cell_type": "code",
   "execution_count": null,
   "metadata": {},
   "outputs": [],
   "source": []
  }
 ],
 "metadata": {
  "file_extension": ".py",
  "kernelspec": {
   "display_name": "Python 3",
   "language": "python",
   "name": "python3"
  },
  "language_info": {
   "codemirror_mode": {
    "name": "ipython",
    "version": 3
   },
   "file_extension": ".py",
   "mimetype": "text/x-python",
   "name": "python",
   "nbconvert_exporter": "python",
   "pygments_lexer": "ipython3",
   "version": "3.7.6"
  },
  "mimetype": "text/x-python",
  "name": "python",
  "npconvert_exporter": "python",
  "pygments_lexer": "ipython3",
  "version": 3
 },
 "nbformat": 4,
 "nbformat_minor": 2
}
